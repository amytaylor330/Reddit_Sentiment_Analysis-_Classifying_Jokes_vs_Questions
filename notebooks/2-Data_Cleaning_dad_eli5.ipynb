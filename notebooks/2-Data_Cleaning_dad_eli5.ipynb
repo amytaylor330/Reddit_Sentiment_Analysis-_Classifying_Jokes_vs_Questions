{
 "cells": [
  {
   "cell_type": "markdown",
   "metadata": {},
   "source": [
    "# 2. Data Cleaning\n",
    "<br>\n",
    "This notebook is the third of four in the Reddit API scrape and classification project.\n",
    "EDA is performed on both the **Dad Jokes** and **ELI5** dataframes. The dataframes are combined, cleaned, and archived for purposes of classification modeling (performed in notebook #3).\n",
    "\n",
    "#### Actions performed:\n",
    "   - EDA on Dad Jokes dataframe\n",
    "   - EDA on ELI5 dataframe\n",
    "   - Dataframes combined and cleaned\n",
    "   - Example posts selected"
   ]
  },
  {
   "cell_type": "markdown",
   "metadata": {},
   "source": [
    "---\n",
    "\n",
    "Import modules"
   ]
  },
  {
   "cell_type": "code",
   "execution_count": 1,
   "metadata": {},
   "outputs": [],
   "source": [
    "# cleaning and processing tools\n",
    "import pandas as pd\n",
    "import numpy as np\n"
   ]
  },
  {
   "cell_type": "markdown",
   "metadata": {},
   "source": [
    "## Import Dad Jokes dataframe; perform EDA"
   ]
  },
  {
   "cell_type": "code",
   "execution_count": 2,
   "metadata": {},
   "outputs": [],
   "source": [
    "dad = pd.read_csv('../datasets/dad.csv')"
   ]
  },
  {
   "cell_type": "code",
   "execution_count": 3,
   "metadata": {},
   "outputs": [
    {
     "name": "stdout",
     "output_type": "stream",
     "text": [
      "(3447, 10)\n"
     ]
    },
    {
     "data": {
      "text/html": [
       "<div>\n",
       "<style scoped>\n",
       "    .dataframe tbody tr th:only-of-type {\n",
       "        vertical-align: middle;\n",
       "    }\n",
       "\n",
       "    .dataframe tbody tr th {\n",
       "        vertical-align: top;\n",
       "    }\n",
       "\n",
       "    .dataframe thead th {\n",
       "        text-align: right;\n",
       "    }\n",
       "</style>\n",
       "<table border=\"1\" class=\"dataframe\">\n",
       "  <thead>\n",
       "    <tr style=\"text-align: right;\">\n",
       "      <th></th>\n",
       "      <th>name</th>\n",
       "      <th>title</th>\n",
       "      <th>selftext</th>\n",
       "      <th>subreddit</th>\n",
       "      <th>created</th>\n",
       "      <th>author</th>\n",
       "      <th>num_comments</th>\n",
       "      <th>ups</th>\n",
       "      <th>downs</th>\n",
       "      <th>score</th>\n",
       "    </tr>\n",
       "  </thead>\n",
       "  <tbody>\n",
       "    <tr>\n",
       "      <th>0</th>\n",
       "      <td>t3_9zyjbd</td>\n",
       "      <td>Today, my son asked \"Can I have a book mark?\" ...</td>\n",
       "      <td>NaN</td>\n",
       "      <td>dadjokes</td>\n",
       "      <td>1.543096e+09</td>\n",
       "      <td>ebkbk</td>\n",
       "      <td>185</td>\n",
       "      <td>38059</td>\n",
       "      <td>0</td>\n",
       "      <td>38059</td>\n",
       "    </tr>\n",
       "    <tr>\n",
       "      <th>1</th>\n",
       "      <td>t3_a6k9bp</td>\n",
       "      <td>I got the words “jacuzzi” and “yakuza” confused.</td>\n",
       "      <td>Now I’m in hot water with the Japanese mafia.</td>\n",
       "      <td>dadjokes</td>\n",
       "      <td>1.544947e+09</td>\n",
       "      <td>porichoygupto</td>\n",
       "      <td>175</td>\n",
       "      <td>20946</td>\n",
       "      <td>0</td>\n",
       "      <td>20946</td>\n",
       "    </tr>\n",
       "    <tr>\n",
       "      <th>2</th>\n",
       "      <td>t3_a1uxsk</td>\n",
       "      <td>Geology rocks but geography is where it's at</td>\n",
       "      <td>NaN</td>\n",
       "      <td>dadjokes</td>\n",
       "      <td>1.543631e+09</td>\n",
       "      <td>Tempsilon</td>\n",
       "      <td>166</td>\n",
       "      <td>16072</td>\n",
       "      <td>0</td>\n",
       "      <td>16072</td>\n",
       "    </tr>\n",
       "    <tr>\n",
       "      <th>3</th>\n",
       "      <td>t3_9yrxoh</td>\n",
       "      <td>I have a friend who was born on October 10th. ...</td>\n",
       "      <td>It might be stupid, but 10/10 wood post again.</td>\n",
       "      <td>dadjokes</td>\n",
       "      <td>1.542748e+09</td>\n",
       "      <td>Maimonides_vii</td>\n",
       "      <td>215</td>\n",
       "      <td>15138</td>\n",
       "      <td>0</td>\n",
       "      <td>15138</td>\n",
       "    </tr>\n",
       "    <tr>\n",
       "      <th>4</th>\n",
       "      <td>t3_a2bjiz</td>\n",
       "      <td>What word starts with \"e\", ends with \"e\", and ...</td>\n",
       "      <td>Envelope.</td>\n",
       "      <td>dadjokes</td>\n",
       "      <td>1.543766e+09</td>\n",
       "      <td>ENJOYblet</td>\n",
       "      <td>260</td>\n",
       "      <td>13281</td>\n",
       "      <td>0</td>\n",
       "      <td>13281</td>\n",
       "    </tr>\n",
       "  </tbody>\n",
       "</table>\n",
       "</div>"
      ],
      "text/plain": [
       "        name                                              title  \\\n",
       "0  t3_9zyjbd  Today, my son asked \"Can I have a book mark?\" ...   \n",
       "1  t3_a6k9bp   I got the words “jacuzzi” and “yakuza” confused.   \n",
       "2  t3_a1uxsk       Geology rocks but geography is where it's at   \n",
       "3  t3_9yrxoh  I have a friend who was born on October 10th. ...   \n",
       "4  t3_a2bjiz  What word starts with \"e\", ends with \"e\", and ...   \n",
       "\n",
       "                                         selftext subreddit       created  \\\n",
       "0                                             NaN  dadjokes  1.543096e+09   \n",
       "1   Now I’m in hot water with the Japanese mafia.  dadjokes  1.544947e+09   \n",
       "2                                             NaN  dadjokes  1.543631e+09   \n",
       "3  It might be stupid, but 10/10 wood post again.  dadjokes  1.542748e+09   \n",
       "4                                      Envelope.   dadjokes  1.543766e+09   \n",
       "\n",
       "           author  num_comments    ups  downs  score  \n",
       "0           ebkbk           185  38059      0  38059  \n",
       "1   porichoygupto           175  20946      0  20946  \n",
       "2       Tempsilon           166  16072      0  16072  \n",
       "3  Maimonides_vii           215  15138      0  15138  \n",
       "4       ENJOYblet           260  13281      0  13281  "
      ]
     },
     "execution_count": 3,
     "metadata": {},
     "output_type": "execute_result"
    }
   ],
   "source": [
    "print(dad.shape)\n",
    "dad.head()"
   ]
  },
  {
   "cell_type": "markdown",
   "metadata": {},
   "source": [
    "> Weird.. looks like the duplicates didn't get dropped in notebook #1 \n",
    "\n",
    "I'll just do it again here."
   ]
  },
  {
   "cell_type": "code",
   "execution_count": 4,
   "metadata": {},
   "outputs": [
    {
     "data": {
      "text/plain": [
       "(1738, 10)"
      ]
     },
     "execution_count": 4,
     "metadata": {},
     "output_type": "execute_result"
    }
   ],
   "source": [
    "dad = dad.drop_duplicates(['name'])\n",
    "dad.shape"
   ]
  },
  {
   "cell_type": "code",
   "execution_count": 7,
   "metadata": {},
   "outputs": [
    {
     "data": {
      "text/plain": [
       "name             object\n",
       "title            object\n",
       "selftext         object\n",
       "subreddit        object\n",
       "created         float64\n",
       "author           object\n",
       "num_comments      int64\n",
       "ups               int64\n",
       "downs             int64\n",
       "score             int64\n",
       "dtype: object"
      ]
     },
     "execution_count": 7,
     "metadata": {},
     "output_type": "execute_result"
    }
   ],
   "source": [
    "dad.dtypes"
   ]
  },
  {
   "cell_type": "markdown",
   "metadata": {},
   "source": [
    "**Examine authors with the most posts**"
   ]
  },
  {
   "cell_type": "code",
   "execution_count": 6,
   "metadata": {},
   "outputs": [
    {
     "data": {
      "text/plain": [
       "porichoygupto      117\n",
       "TommehBoi           31\n",
       "thomasbrakeline     29\n",
       "madazzahatter       16\n",
       "ENJOYblet           11\n",
       "RageMonster17       10\n",
       "manicmoose13         9\n",
       "Mad_Chicken_         9\n",
       "zhenggan3263         8\n",
       "74CK                 7\n",
       "Name: author, dtype: int64"
      ]
     },
     "execution_count": 6,
     "metadata": {},
     "output_type": "execute_result"
    }
   ],
   "source": [
    "dad['author'].value_counts().head(10)"
   ]
  },
  {
   "cell_type": "markdown",
   "metadata": {},
   "source": [
    "- So this tells me that 10 individuals contributed 247 posts to the dad jokes subreddit\n",
    "- That is ~14% of all posts in this subreddit scrape"
   ]
  },
  {
   "cell_type": "markdown",
   "metadata": {},
   "source": [
    "**Examine posts  with the highest score**"
   ]
  },
  {
   "cell_type": "code",
   "execution_count": 7,
   "metadata": {},
   "outputs": [
    {
     "data": {
      "text/plain": [
       "0     38059\n",
       "1     20946\n",
       "2     16072\n",
       "3     15138\n",
       "4     13281\n",
       "5     13223\n",
       "6     12920\n",
       "7     11992\n",
       "8     11741\n",
       "9     11612\n",
       "10    11104\n",
       "11    10363\n",
       "12    10353\n",
       "13    10337\n",
       "14    10294\n",
       "Name: score, dtype: int64"
      ]
     },
     "execution_count": 7,
     "metadata": {},
     "output_type": "execute_result"
    }
   ],
   "source": [
    "dad['score'].sort_values(ascending = False).head(15)"
   ]
  },
  {
   "cell_type": "code",
   "execution_count": 8,
   "metadata": {},
   "outputs": [
    {
     "data": {
      "text/html": [
       "<div>\n",
       "<style scoped>\n",
       "    .dataframe tbody tr th:only-of-type {\n",
       "        vertical-align: middle;\n",
       "    }\n",
       "\n",
       "    .dataframe tbody tr th {\n",
       "        vertical-align: top;\n",
       "    }\n",
       "\n",
       "    .dataframe thead th {\n",
       "        text-align: right;\n",
       "    }\n",
       "</style>\n",
       "<table border=\"1\" class=\"dataframe\">\n",
       "  <thead>\n",
       "    <tr style=\"text-align: right;\">\n",
       "      <th></th>\n",
       "      <th>score</th>\n",
       "      <th>title</th>\n",
       "    </tr>\n",
       "  </thead>\n",
       "  <tbody>\n",
       "    <tr>\n",
       "      <th>0</th>\n",
       "      <td>38059</td>\n",
       "      <td>Today, my son asked \"Can I have a book mark?\" ...</td>\n",
       "    </tr>\n",
       "    <tr>\n",
       "      <th>1</th>\n",
       "      <td>20946</td>\n",
       "      <td>I got the words “jacuzzi” and “yakuza” confused.</td>\n",
       "    </tr>\n",
       "    <tr>\n",
       "      <th>2</th>\n",
       "      <td>16072</td>\n",
       "      <td>Geology rocks but geography is where it's at</td>\n",
       "    </tr>\n",
       "    <tr>\n",
       "      <th>3</th>\n",
       "      <td>15138</td>\n",
       "      <td>I have a friend who was born on October 10th. ...</td>\n",
       "    </tr>\n",
       "  </tbody>\n",
       "</table>\n",
       "</div>"
      ],
      "text/plain": [
       "   score                                              title\n",
       "0  38059  Today, my son asked \"Can I have a book mark?\" ...\n",
       "1  20946   I got the words “jacuzzi” and “yakuza” confused.\n",
       "2  16072       Geology rocks but geography is where it's at\n",
       "3  15138  I have a friend who was born on October 10th. ..."
      ]
     },
     "execution_count": 8,
     "metadata": {},
     "output_type": "execute_result"
    }
   ],
   "source": [
    "# these are the posts with the most upvotes\n",
    "dad[dad['score'] >= 15000][['score', 'title']].sort_values(by = 'score', ascending=False)"
   ]
  },
  {
   "cell_type": "code",
   "execution_count": 9,
   "metadata": {},
   "outputs": [
    {
     "data": {
      "text/plain": [
       "'Today, my son asked \"Can I have a book mark?\" and I burst into tears. 11 years old and he still doesn\\'t know my name is Brian.'"
      ]
     },
     "execution_count": 9,
     "metadata": {},
     "output_type": "execute_result"
    }
   ],
   "source": [
    "# dad[dad['score'] ==38059]\n",
    "dad['title'][0]"
   ]
  },
  {
   "cell_type": "markdown",
   "metadata": {},
   "source": [
    ">The joke above had the most upvotes [\\*cringe*]"
   ]
  },
  {
   "cell_type": "markdown",
   "metadata": {},
   "source": [
    "**Examine posts w/ most comments**"
   ]
  },
  {
   "cell_type": "code",
   "execution_count": 10,
   "metadata": {},
   "outputs": [
    {
     "data": {
      "text/plain": [
       "4     260\n",
       "12    238\n",
       "3     215\n",
       "11    206\n",
       "0     185\n",
       "Name: num_comments, dtype: int64"
      ]
     },
     "execution_count": 10,
     "metadata": {},
     "output_type": "execute_result"
    }
   ],
   "source": [
    "dad['num_comments'].sort_values(ascending = False).head()"
   ]
  },
  {
   "cell_type": "code",
   "execution_count": 11,
   "metadata": {},
   "outputs": [
    {
     "data": {
      "text/plain": [
       "4     What word starts with \"e\", ends with \"e\", and ...\n",
       "0     Today, my son asked \"Can I have a book mark?\" ...\n",
       "12          The ultimate Dad Joke - Bulgarian Train Man\n",
       "11    My calculus professor was 16 minutes late to h...\n",
       "3     I have a friend who was born on October 10th. ...\n",
       "Name: title, dtype: object"
      ]
     },
     "execution_count": 11,
     "metadata": {},
     "output_type": "execute_result"
    }
   ],
   "source": [
    "#these are the posts with the most comments\n",
    "dad[dad['num_comments'] >= 185]['title'].sort_values(ascending=False)"
   ]
  },
  {
   "cell_type": "code",
   "execution_count": 12,
   "metadata": {},
   "outputs": [
    {
     "name": "stdout",
     "output_type": "stream",
     "text": [
      "What word starts with \"e\", ends with \"e\", and only has one letter in it?\n",
      " Envelope. \n"
     ]
    }
   ],
   "source": [
    "print(dad['title'][4])\n",
    "print(dad['selftext'][4])"
   ]
  },
  {
   "cell_type": "markdown",
   "metadata": {},
   "source": [
    "> The joke above had the most comments (260). I wonder why?!"
   ]
  },
  {
   "cell_type": "markdown",
   "metadata": {},
   "source": [
    "**Verify that all the posts are from the dad jokes subreddit** (just in case!)"
   ]
  },
  {
   "cell_type": "code",
   "execution_count": 13,
   "metadata": {
    "scrolled": true
   },
   "outputs": [
    {
     "data": {
      "text/plain": [
       "dadjokes    1738\n",
       "Name: subreddit, dtype: int64"
      ]
     },
     "execution_count": 13,
     "metadata": {},
     "output_type": "execute_result"
    }
   ],
   "source": [
    "dad['subreddit'].value_counts()"
   ]
  },
  {
   "cell_type": "markdown",
   "metadata": {},
   "source": [
    "**Are there any null values?**"
   ]
  },
  {
   "cell_type": "code",
   "execution_count": 14,
   "metadata": {},
   "outputs": [
    {
     "data": {
      "text/plain": [
       "name              0\n",
       "title             0\n",
       "selftext        105\n",
       "subreddit         0\n",
       "created           0\n",
       "author            0\n",
       "num_comments      0\n",
       "ups               0\n",
       "downs             0\n",
       "score             0\n",
       "dtype: int64"
      ]
     },
     "execution_count": 14,
     "metadata": {},
     "output_type": "execute_result"
    }
   ],
   "source": [
    "dad.isnull().sum()"
   ]
  },
  {
   "cell_type": "markdown",
   "metadata": {},
   "source": [
    "## Import ELI5 dataframe; perform EDA"
   ]
  },
  {
   "cell_type": "code",
   "execution_count": 15,
   "metadata": {},
   "outputs": [
    {
     "data": {
      "text/html": [
       "<div>\n",
       "<style scoped>\n",
       "    .dataframe tbody tr th:only-of-type {\n",
       "        vertical-align: middle;\n",
       "    }\n",
       "\n",
       "    .dataframe tbody tr th {\n",
       "        vertical-align: top;\n",
       "    }\n",
       "\n",
       "    .dataframe thead th {\n",
       "        text-align: right;\n",
       "    }\n",
       "</style>\n",
       "<table border=\"1\" class=\"dataframe\">\n",
       "  <thead>\n",
       "    <tr style=\"text-align: right;\">\n",
       "      <th></th>\n",
       "      <th>name</th>\n",
       "      <th>title</th>\n",
       "      <th>selftext</th>\n",
       "      <th>subreddit</th>\n",
       "      <th>created</th>\n",
       "      <th>author</th>\n",
       "      <th>num_comments</th>\n",
       "      <th>ups</th>\n",
       "      <th>downs</th>\n",
       "      <th>score</th>\n",
       "    </tr>\n",
       "  </thead>\n",
       "  <tbody>\n",
       "    <tr>\n",
       "      <th>0</th>\n",
       "      <td>t3_a02lyg</td>\n",
       "      <td>ELI5: Why is pi not infinite?</td>\n",
       "      <td>NaN</td>\n",
       "      <td>explainlikeimfive</td>\n",
       "      <td>1.543125e+09</td>\n",
       "      <td>UnidentifiedEcho</td>\n",
       "      <td>44</td>\n",
       "      <td>0</td>\n",
       "      <td>0</td>\n",
       "      <td>0</td>\n",
       "    </tr>\n",
       "    <tr>\n",
       "      <th>1</th>\n",
       "      <td>t3_80yrkb</td>\n",
       "      <td>ELI5: Ohm's law applies on alternate current t...</td>\n",
       "      <td>NaN</td>\n",
       "      <td>explainlikeimfive</td>\n",
       "      <td>1.519875e+09</td>\n",
       "      <td>Geeky_panda</td>\n",
       "      <td>6</td>\n",
       "      <td>0</td>\n",
       "      <td>0</td>\n",
       "      <td>0</td>\n",
       "    </tr>\n",
       "    <tr>\n",
       "      <th>2</th>\n",
       "      <td>t3_9e8hdw</td>\n",
       "      <td>Eli5- what legally distinguishes kidnapping fr...</td>\n",
       "      <td>NaN</td>\n",
       "      <td>explainlikeimfive</td>\n",
       "      <td>1.536478e+09</td>\n",
       "      <td>chriscroc420</td>\n",
       "      <td>13</td>\n",
       "      <td>0</td>\n",
       "      <td>0</td>\n",
       "      <td>0</td>\n",
       "    </tr>\n",
       "  </tbody>\n",
       "</table>\n",
       "</div>"
      ],
      "text/plain": [
       "        name                                              title selftext  \\\n",
       "0  t3_a02lyg                      ELI5: Why is pi not infinite?      NaN   \n",
       "1  t3_80yrkb  ELI5: Ohm's law applies on alternate current t...      NaN   \n",
       "2  t3_9e8hdw  Eli5- what legally distinguishes kidnapping fr...      NaN   \n",
       "\n",
       "           subreddit       created            author  num_comments  ups  \\\n",
       "0  explainlikeimfive  1.543125e+09  UnidentifiedEcho            44    0   \n",
       "1  explainlikeimfive  1.519875e+09       Geeky_panda             6    0   \n",
       "2  explainlikeimfive  1.536478e+09      chriscroc420            13    0   \n",
       "\n",
       "   downs  score  \n",
       "0      0      0  \n",
       "1      0      0  \n",
       "2      0      0  "
      ]
     },
     "execution_count": 15,
     "metadata": {},
     "output_type": "execute_result"
    }
   ],
   "source": [
    "five = pd.read_csv(\"../datasets/eli5.csv\")\n",
    "five.head(3)"
   ]
  },
  {
   "cell_type": "code",
   "execution_count": 16,
   "metadata": {},
   "outputs": [
    {
     "data": {
      "text/plain": [
       "(12964, 10)"
      ]
     },
     "execution_count": 16,
     "metadata": {},
     "output_type": "execute_result"
    }
   ],
   "source": [
    "five.shape"
   ]
  },
  {
   "cell_type": "markdown",
   "metadata": {},
   "source": [
    "> Once again,  the duplicates didn't get dropped in notebook #2.\n",
    "\n",
    "I'll do it again here."
   ]
  },
  {
   "cell_type": "code",
   "execution_count": 17,
   "metadata": {},
   "outputs": [
    {
     "data": {
      "text/plain": [
       "(1521, 10)"
      ]
     },
     "execution_count": 17,
     "metadata": {},
     "output_type": "execute_result"
    }
   ],
   "source": [
    "five = five.drop_duplicates(['name'])\n",
    "five.shape"
   ]
  },
  {
   "cell_type": "markdown",
   "metadata": {},
   "source": [
    "**Are there any null values?**"
   ]
  },
  {
   "cell_type": "code",
   "execution_count": 18,
   "metadata": {},
   "outputs": [
    {
     "data": {
      "text/plain": [
       "name              0\n",
       "title             0\n",
       "selftext        791\n",
       "subreddit         0\n",
       "created           0\n",
       "author            0\n",
       "num_comments      0\n",
       "ups               0\n",
       "downs             0\n",
       "score             0\n",
       "dtype: int64"
      ]
     },
     "execution_count": 18,
     "metadata": {},
     "output_type": "execute_result"
    }
   ],
   "source": [
    "five.isnull().sum()"
   ]
  },
  {
   "cell_type": "markdown",
   "metadata": {},
   "source": [
    "**Examine authors with the most posts**"
   ]
  },
  {
   "cell_type": "code",
   "execution_count": 19,
   "metadata": {},
   "outputs": [
    {
     "data": {
      "text/plain": [
       "t3_9ryrzy    1\n",
       "t3_a6rr6o    1\n",
       "t3_8j8hc0    1\n",
       "t3_a75ijo    1\n",
       "t3_916o9z    1\n",
       "Name: name, dtype: int64"
      ]
     },
     "execution_count": 19,
     "metadata": {},
     "output_type": "execute_result"
    }
   ],
   "source": [
    "five['name'].value_counts().head(5)\n",
    "# so every 'name' is a unique id"
   ]
  },
  {
   "cell_type": "markdown",
   "metadata": {},
   "source": [
    "So this tells me that the 'name' column is a unique id for every post"
   ]
  },
  {
   "cell_type": "code",
   "execution_count": 20,
   "metadata": {},
   "outputs": [
    {
     "data": {
      "text/plain": [
       "[deleted]             21\n",
       "myfirstpanda           4\n",
       "any_username_ideas     3\n",
       "wentaas                3\n",
       "mxzbzz                 3\n",
       "questiondudes          3\n",
       "YamiiYugii             3\n",
       "Xeluc                  3\n",
       "massivebrain           2\n",
       "JoThePro10             2\n",
       "Name: author, dtype: int64"
      ]
     },
     "execution_count": 20,
     "metadata": {},
     "output_type": "execute_result"
    }
   ],
   "source": [
    "five['author'].value_counts().head(10)"
   ]
  },
  {
   "cell_type": "markdown",
   "metadata": {},
   "source": [
    "> So in ELI5, there are much less repeat authors (26 total posts between 9 people, which is ~1.7% of the total posts.) Maybe people don't return with questions here because they learned how to use google instead!"
   ]
  },
  {
   "cell_type": "code",
   "execution_count": 22,
   "metadata": {},
   "outputs": [
    {
     "data": {
      "text/html": [
       "<div>\n",
       "<style scoped>\n",
       "    .dataframe tbody tr th:only-of-type {\n",
       "        vertical-align: middle;\n",
       "    }\n",
       "\n",
       "    .dataframe tbody tr th {\n",
       "        vertical-align: top;\n",
       "    }\n",
       "\n",
       "    .dataframe thead th {\n",
       "        text-align: right;\n",
       "    }\n",
       "</style>\n",
       "<table border=\"1\" class=\"dataframe\">\n",
       "  <thead>\n",
       "    <tr style=\"text-align: right;\">\n",
       "      <th></th>\n",
       "      <th>title</th>\n",
       "      <th>score</th>\n",
       "      <th>num_comments</th>\n",
       "    </tr>\n",
       "  </thead>\n",
       "  <tbody>\n",
       "    <tr>\n",
       "      <th>789</th>\n",
       "      <td>ELI5: How does popcorn lung work, how is it co...</td>\n",
       "      <td>0</td>\n",
       "      <td>4</td>\n",
       "    </tr>\n",
       "    <tr>\n",
       "      <th>11358</th>\n",
       "      <td>ELI5: In the UK, what does the title of sir ac...</td>\n",
       "      <td>4</td>\n",
       "      <td>10</td>\n",
       "    </tr>\n",
       "    <tr>\n",
       "      <th>11716</th>\n",
       "      <td>ELI5: Why are we usually fine with our own mes...</td>\n",
       "      <td>17</td>\n",
       "      <td>5</td>\n",
       "    </tr>\n",
       "    <tr>\n",
       "      <th>12817</th>\n",
       "      <td>ELI5: What do the numbers on the dials on radi...</td>\n",
       "      <td>2</td>\n",
       "      <td>0</td>\n",
       "    </tr>\n",
       "  </tbody>\n",
       "</table>\n",
       "</div>"
      ],
      "text/plain": [
       "                                                   title  score  num_comments\n",
       "789    ELI5: How does popcorn lung work, how is it co...      0             4\n",
       "11358  ELI5: In the UK, what does the title of sir ac...      4            10\n",
       "11716  ELI5: Why are we usually fine with our own mes...     17             5\n",
       "12817  ELI5: What do the numbers on the dials on radi...      2             0"
      ]
     },
     "execution_count": 22,
     "metadata": {},
     "output_type": "execute_result"
    }
   ],
   "source": [
    "five[five['author'] == 'myfirstpanda'][['title', 'score', 'num_comments' ]]"
   ]
  },
  {
   "cell_type": "markdown",
   "metadata": {},
   "source": [
    "**Examine highest scores**"
   ]
  },
  {
   "cell_type": "code",
   "execution_count": 23,
   "metadata": {},
   "outputs": [
    {
     "data": {
      "text/plain": [
       "11212    15244\n",
       "11207    13224\n",
       "11601    10374\n",
       "11326    10123\n",
       "11699     9055\n",
       "11484     7438\n",
       "72        1651\n",
       "11206      864\n",
       "11593      828\n",
       "464        483\n",
       "Name: score, dtype: int64"
      ]
     },
     "execution_count": 23,
     "metadata": {},
     "output_type": "execute_result"
    }
   ],
   "source": [
    "five['score'].sort_values(ascending = False).head(10)"
   ]
  },
  {
   "cell_type": "markdown",
   "metadata": {},
   "source": [
    ">The highest scoring post has about half as many upvotes as the one in Dad jokes. People like to like jokes more than questions! [NOTE: this metric has not been verified because we don't know how long posts were up for]"
   ]
  },
  {
   "cell_type": "markdown",
   "metadata": {},
   "source": [
    "**Examine posts with the most comments**"
   ]
  },
  {
   "cell_type": "code",
   "execution_count": 24,
   "metadata": {},
   "outputs": [
    {
     "data": {
      "text/plain": [
       "11212    1357\n",
       "11207     945\n",
       "72        603\n",
       "11326     529\n",
       "11484     428\n",
       "Name: num_comments, dtype: int64"
      ]
     },
     "execution_count": 24,
     "metadata": {},
     "output_type": "execute_result"
    }
   ],
   "source": [
    "five['num_comments'].sort_values(ascending = False).head()"
   ]
  },
  {
   "cell_type": "code",
   "execution_count": 25,
   "metadata": {},
   "outputs": [
    {
     "data": {
      "text/html": [
       "<div>\n",
       "<style scoped>\n",
       "    .dataframe tbody tr th:only-of-type {\n",
       "        vertical-align: middle;\n",
       "    }\n",
       "\n",
       "    .dataframe tbody tr th {\n",
       "        vertical-align: top;\n",
       "    }\n",
       "\n",
       "    .dataframe thead th {\n",
       "        text-align: right;\n",
       "    }\n",
       "</style>\n",
       "<table border=\"1\" class=\"dataframe\">\n",
       "  <thead>\n",
       "    <tr style=\"text-align: right;\">\n",
       "      <th></th>\n",
       "      <th>title</th>\n",
       "      <th>num_comments</th>\n",
       "      <th>score</th>\n",
       "    </tr>\n",
       "  </thead>\n",
       "  <tbody>\n",
       "    <tr>\n",
       "      <th>72</th>\n",
       "      <td>ELI5: why don’t you hear about the history of ...</td>\n",
       "      <td>603</td>\n",
       "      <td>1651</td>\n",
       "    </tr>\n",
       "    <tr>\n",
       "      <th>11207</th>\n",
       "      <td>ELI5: why do some letters like \"a\" or \"g\" look...</td>\n",
       "      <td>945</td>\n",
       "      <td>13224</td>\n",
       "    </tr>\n",
       "    <tr>\n",
       "      <th>11212</th>\n",
       "      <td>ELI5: Why does it seem like I look better in t...</td>\n",
       "      <td>1357</td>\n",
       "      <td>15244</td>\n",
       "    </tr>\n",
       "    <tr>\n",
       "      <th>11326</th>\n",
       "      <td>ELI5: Why was New York City so dangerous in th...</td>\n",
       "      <td>529</td>\n",
       "      <td>10123</td>\n",
       "    </tr>\n",
       "    <tr>\n",
       "      <th>11484</th>\n",
       "      <td>ELI5 why is there the two rows of elements tha...</td>\n",
       "      <td>428</td>\n",
       "      <td>7438</td>\n",
       "    </tr>\n",
       "    <tr>\n",
       "      <th>11699</th>\n",
       "      <td>ELI5: Why do URLs have %20 in them to represen...</td>\n",
       "      <td>403</td>\n",
       "      <td>9055</td>\n",
       "    </tr>\n",
       "  </tbody>\n",
       "</table>\n",
       "</div>"
      ],
      "text/plain": [
       "                                                   title  num_comments  score\n",
       "72     ELI5: why don’t you hear about the history of ...           603   1651\n",
       "11207  ELI5: why do some letters like \"a\" or \"g\" look...           945  13224\n",
       "11212  ELI5: Why does it seem like I look better in t...          1357  15244\n",
       "11326  ELI5: Why was New York City so dangerous in th...           529  10123\n",
       "11484  ELI5 why is there the two rows of elements tha...           428   7438\n",
       "11699  ELI5: Why do URLs have %20 in them to represen...           403   9055"
      ]
     },
     "execution_count": 25,
     "metadata": {},
     "output_type": "execute_result"
    }
   ],
   "source": [
    "five[five['num_comments'] >= 400][['title', 'num_comments', 'score']].head(8)"
   ]
  },
  {
   "cell_type": "code",
   "execution_count": 49,
   "metadata": {},
   "outputs": [
    {
     "name": "stdout",
     "output_type": "stream",
     "text": [
      "ELI5: why don’t you hear about the history of Africa before colonialism?\n",
      "ELI5: why do some letters like \"a\" or \"g\" look different on a computer than when normally written?\n",
      "ELI5: Why does it seem like I look better in the mirror than I do on a camera ?\n",
      "ELI5: Why was New York City so dangerous in the 70s + 80s and how did it get that way?\n",
      "ELI5 why is there the two rows of elements that don't fit in on the periodic table? How do these 20 or so elements fit into those two single spots?\n"
     ]
    }
   ],
   "source": [
    "print(five['title'][72])\n",
    "print(five['title'][11207])\n",
    "print(five['title'][11212])\n",
    "print(five['title'][11326])\n",
    "print(five['title'][11484])"
   ]
  },
  {
   "cell_type": "markdown",
   "metadata": {},
   "source": [
    "> This question has the most active comments. People have opinions on this!\n",
    "\n",
    "Not surprisingly, the ELI5 subreddit has much more comment activity going on than in dad jokes. "
   ]
  },
  {
   "cell_type": "code",
   "execution_count": 27,
   "metadata": {},
   "outputs": [
    {
     "data": {
      "text/plain": [
       "\"ELI5: Ohm's law applies on alternate current till 220V but not further, why ?\""
      ]
     },
     "execution_count": 27,
     "metadata": {},
     "output_type": "execute_result"
    }
   ],
   "source": [
    "five.loc[1,'title']"
   ]
  },
  {
   "cell_type": "markdown",
   "metadata": {},
   "source": [
    "**Verify that all the posts are from the ELI5 subreddit** (just in case!)"
   ]
  },
  {
   "cell_type": "code",
   "execution_count": 28,
   "metadata": {
    "scrolled": true
   },
   "outputs": [
    {
     "data": {
      "text/plain": [
       "explainlikeimfive    1521\n",
       "Name: subreddit, dtype: int64"
      ]
     },
     "execution_count": 28,
     "metadata": {},
     "output_type": "execute_result"
    }
   ],
   "source": [
    "five['subreddit'].value_counts()"
   ]
  },
  {
   "cell_type": "markdown",
   "metadata": {},
   "source": [
    "## Combine dataframes\n",
    "-Cleaning Tasks to perform:\n",
    "   - create a df w/ three columns: `name`, `title`, and `subreddit`\n",
    "   - replace Nan values in `selftext` with \"\"\n",
    "   - combine the `title` and `selftext` columns into a new column, `post`\n",
    "   - turn `subreddit` into dummy column for 0 or 1 (0 = feminist, 1 = trans)\n",
    "   \n",
    "-Additional cleaning\n",
    "   - remove any phrase 'ELI5' from the ELI5 posts"
   ]
  },
  {
   "cell_type": "markdown",
   "metadata": {},
   "source": [
    "---\n",
    "\n",
    "- *Combine ELI5 and Dad Jokes dataframes*"
   ]
  },
  {
   "cell_type": "code",
   "execution_count": 29,
   "metadata": {},
   "outputs": [
    {
     "name": "stdout",
     "output_type": "stream",
     "text": [
      "(3259, 10)\n"
     ]
    },
    {
     "data": {
      "text/html": [
       "<div>\n",
       "<style scoped>\n",
       "    .dataframe tbody tr th:only-of-type {\n",
       "        vertical-align: middle;\n",
       "    }\n",
       "\n",
       "    .dataframe tbody tr th {\n",
       "        vertical-align: top;\n",
       "    }\n",
       "\n",
       "    .dataframe thead th {\n",
       "        text-align: right;\n",
       "    }\n",
       "</style>\n",
       "<table border=\"1\" class=\"dataframe\">\n",
       "  <thead>\n",
       "    <tr style=\"text-align: right;\">\n",
       "      <th></th>\n",
       "      <th>name</th>\n",
       "      <th>title</th>\n",
       "      <th>selftext</th>\n",
       "      <th>subreddit</th>\n",
       "      <th>created</th>\n",
       "      <th>author</th>\n",
       "      <th>num_comments</th>\n",
       "      <th>ups</th>\n",
       "      <th>downs</th>\n",
       "      <th>score</th>\n",
       "    </tr>\n",
       "  </thead>\n",
       "  <tbody>\n",
       "    <tr>\n",
       "      <th>3256</th>\n",
       "      <td>t3_a7vjcu</td>\n",
       "      <td>ELI5: Why did I hear voices whenever I had a f...</td>\n",
       "      <td>NaN</td>\n",
       "      <td>explainlikeimfive</td>\n",
       "      <td>1.545320e+09</td>\n",
       "      <td>12344321r</td>\n",
       "      <td>0</td>\n",
       "      <td>3</td>\n",
       "      <td>0</td>\n",
       "      <td>3</td>\n",
       "    </tr>\n",
       "    <tr>\n",
       "      <th>3257</th>\n",
       "      <td>t3_a7vjq5</td>\n",
       "      <td>ELI5: What even is a permanent record?</td>\n",
       "      <td>I’ve always head that your permanent record fo...</td>\n",
       "      <td>explainlikeimfive</td>\n",
       "      <td>1.545320e+09</td>\n",
       "      <td>lorrddd</td>\n",
       "      <td>0</td>\n",
       "      <td>1</td>\n",
       "      <td>0</td>\n",
       "      <td>1</td>\n",
       "    </tr>\n",
       "    <tr>\n",
       "      <th>3258</th>\n",
       "      <td>t3_a7vjjd</td>\n",
       "      <td>ELI5: What do the numbers on the dials on radi...</td>\n",
       "      <td>And what would be the most cost effective and ...</td>\n",
       "      <td>explainlikeimfive</td>\n",
       "      <td>1.545320e+09</td>\n",
       "      <td>myfirstpanda</td>\n",
       "      <td>0</td>\n",
       "      <td>2</td>\n",
       "      <td>0</td>\n",
       "      <td>2</td>\n",
       "    </tr>\n",
       "  </tbody>\n",
       "</table>\n",
       "</div>"
      ],
      "text/plain": [
       "           name                                              title  \\\n",
       "3256  t3_a7vjcu  ELI5: Why did I hear voices whenever I had a f...   \n",
       "3257  t3_a7vjq5             ELI5: What even is a permanent record?   \n",
       "3258  t3_a7vjjd  ELI5: What do the numbers on the dials on radi...   \n",
       "\n",
       "                                               selftext          subreddit  \\\n",
       "3256                                                NaN  explainlikeimfive   \n",
       "3257  I’ve always head that your permanent record fo...  explainlikeimfive   \n",
       "3258  And what would be the most cost effective and ...  explainlikeimfive   \n",
       "\n",
       "           created        author  num_comments  ups  downs  score  \n",
       "3256  1.545320e+09     12344321r             0    3      0      3  \n",
       "3257  1.545320e+09       lorrddd             0    1      0      1  \n",
       "3258  1.545320e+09  myfirstpanda             0    2      0      2  "
      ]
     },
     "execution_count": 29,
     "metadata": {},
     "output_type": "execute_result"
    }
   ],
   "source": [
    "# combine the two dfs \n",
    "df = dad.append(five)\n",
    "\n",
    "# reindex\n",
    "df.reset_index(drop=True, inplace=True)\n",
    "print(df.shape)\n",
    "df.tail(3)"
   ]
  },
  {
   "cell_type": "markdown",
   "metadata": {},
   "source": [
    "- *Create dataframe with certain columns*\n",
    "- *Binarize `subreddit` column*"
   ]
  },
  {
   "cell_type": "code",
   "execution_count": 30,
   "metadata": {},
   "outputs": [
    {
     "data": {
      "text/plain": [
       "dadjokes             1738\n",
       "explainlikeimfive    1521\n",
       "Name: subreddit, dtype: int64"
      ]
     },
     "execution_count": 30,
     "metadata": {},
     "output_type": "execute_result"
    }
   ],
   "source": [
    "df = df[[\"name\", 'title', 'selftext','subreddit']]\n",
    "df['subreddit'].value_counts()"
   ]
  },
  {
   "cell_type": "code",
   "execution_count": 31,
   "metadata": {},
   "outputs": [
    {
     "data": {
      "text/plain": [
       "0    1738\n",
       "1    1521\n",
       "Name: subreddit, dtype: int64"
      ]
     },
     "execution_count": 31,
     "metadata": {},
     "output_type": "execute_result"
    }
   ],
   "source": [
    "# binarize subreddit column\n",
    "df['subreddit'] = df['subreddit'].map({\"dadjokes\": 0, \"explainlikeimfive\": 1})\n",
    "df['subreddit'].value_counts()"
   ]
  },
  {
   "cell_type": "markdown",
   "metadata": {},
   "source": [
    "- *Within `selftext`, replace the Nan values with punctuation, or \" \" (because when we combine title and selftext, some columns will have Nan)*"
   ]
  },
  {
   "cell_type": "code",
   "execution_count": 33,
   "metadata": {},
   "outputs": [
    {
     "data": {
      "text/html": [
       "<div>\n",
       "<style scoped>\n",
       "    .dataframe tbody tr th:only-of-type {\n",
       "        vertical-align: middle;\n",
       "    }\n",
       "\n",
       "    .dataframe tbody tr th {\n",
       "        vertical-align: top;\n",
       "    }\n",
       "\n",
       "    .dataframe thead th {\n",
       "        text-align: right;\n",
       "    }\n",
       "</style>\n",
       "<table border=\"1\" class=\"dataframe\">\n",
       "  <thead>\n",
       "    <tr style=\"text-align: right;\">\n",
       "      <th></th>\n",
       "      <th>name</th>\n",
       "      <th>title</th>\n",
       "      <th>selftext</th>\n",
       "      <th>subreddit</th>\n",
       "    </tr>\n",
       "  </thead>\n",
       "  <tbody>\n",
       "    <tr>\n",
       "      <th>3256</th>\n",
       "      <td>t3_a7vjcu</td>\n",
       "      <td>ELI5: Why did I hear voices whenever I had a f...</td>\n",
       "      <td></td>\n",
       "      <td>1</td>\n",
       "    </tr>\n",
       "  </tbody>\n",
       "</table>\n",
       "</div>"
      ],
      "text/plain": [
       "           name                                              title selftext  \\\n",
       "3256  t3_a7vjcu  ELI5: Why did I hear voices whenever I had a f...            \n",
       "\n",
       "      subreddit  \n",
       "3256          1  "
      ]
     },
     "execution_count": 33,
     "metadata": {},
     "output_type": "execute_result"
    }
   ],
   "source": [
    "df.fillna(\"\", inplace=True)\n",
    "df.loc[[3256,]]"
   ]
  },
  {
   "cell_type": "markdown",
   "metadata": {},
   "source": [
    "- *Combine the `title` and the `selftext` text into new column `post`*"
   ]
  },
  {
   "cell_type": "code",
   "execution_count": 34,
   "metadata": {},
   "outputs": [],
   "source": [
    "df[\"post\"] = df[\"title\"].map(str) + \" \" + df[\"selftext\"].map(str)"
   ]
  },
  {
   "cell_type": "markdown",
   "metadata": {},
   "source": [
    "- *Drop the name column because we don't need it*"
   ]
  },
  {
   "cell_type": "code",
   "execution_count": 35,
   "metadata": {},
   "outputs": [
    {
     "data": {
      "text/html": [
       "<div>\n",
       "<style scoped>\n",
       "    .dataframe tbody tr th:only-of-type {\n",
       "        vertical-align: middle;\n",
       "    }\n",
       "\n",
       "    .dataframe tbody tr th {\n",
       "        vertical-align: top;\n",
       "    }\n",
       "\n",
       "    .dataframe thead th {\n",
       "        text-align: right;\n",
       "    }\n",
       "</style>\n",
       "<table border=\"1\" class=\"dataframe\">\n",
       "  <thead>\n",
       "    <tr style=\"text-align: right;\">\n",
       "      <th></th>\n",
       "      <th>title</th>\n",
       "      <th>selftext</th>\n",
       "      <th>subreddit</th>\n",
       "      <th>post</th>\n",
       "    </tr>\n",
       "  </thead>\n",
       "  <tbody>\n",
       "    <tr>\n",
       "      <th>3254</th>\n",
       "      <td>ELI5: A cop can test for alcohol with a breath...</td>\n",
       "      <td></td>\n",
       "      <td>1</td>\n",
       "      <td>ELI5: A cop can test for alcohol with a breath...</td>\n",
       "    </tr>\n",
       "    <tr>\n",
       "      <th>3255</th>\n",
       "      <td>ELI5: What happens to the color in colored dri...</td>\n",
       "      <td></td>\n",
       "      <td>1</td>\n",
       "      <td>ELI5: What happens to the color in colored dri...</td>\n",
       "    </tr>\n",
       "    <tr>\n",
       "      <th>3256</th>\n",
       "      <td>ELI5: Why did I hear voices whenever I had a f...</td>\n",
       "      <td></td>\n",
       "      <td>1</td>\n",
       "      <td>ELI5: Why did I hear voices whenever I had a f...</td>\n",
       "    </tr>\n",
       "    <tr>\n",
       "      <th>3257</th>\n",
       "      <td>ELI5: What even is a permanent record?</td>\n",
       "      <td>I’ve always head that your permanent record fo...</td>\n",
       "      <td>1</td>\n",
       "      <td>ELI5: What even is a permanent record? I’ve al...</td>\n",
       "    </tr>\n",
       "    <tr>\n",
       "      <th>3258</th>\n",
       "      <td>ELI5: What do the numbers on the dials on radi...</td>\n",
       "      <td>And what would be the most cost effective and ...</td>\n",
       "      <td>1</td>\n",
       "      <td>ELI5: What do the numbers on the dials on radi...</td>\n",
       "    </tr>\n",
       "  </tbody>\n",
       "</table>\n",
       "</div>"
      ],
      "text/plain": [
       "                                                  title  \\\n",
       "3254  ELI5: A cop can test for alcohol with a breath...   \n",
       "3255  ELI5: What happens to the color in colored dri...   \n",
       "3256  ELI5: Why did I hear voices whenever I had a f...   \n",
       "3257             ELI5: What even is a permanent record?   \n",
       "3258  ELI5: What do the numbers on the dials on radi...   \n",
       "\n",
       "                                               selftext  subreddit  \\\n",
       "3254                                                             1   \n",
       "3255                                                             1   \n",
       "3256                                                             1   \n",
       "3257  I’ve always head that your permanent record fo...          1   \n",
       "3258  And what would be the most cost effective and ...          1   \n",
       "\n",
       "                                                   post  \n",
       "3254  ELI5: A cop can test for alcohol with a breath...  \n",
       "3255  ELI5: What happens to the color in colored dri...  \n",
       "3256  ELI5: Why did I hear voices whenever I had a f...  \n",
       "3257  ELI5: What even is a permanent record? I’ve al...  \n",
       "3258  ELI5: What do the numbers on the dials on radi...  "
      ]
     },
     "execution_count": 35,
     "metadata": {},
     "output_type": "execute_result"
    }
   ],
   "source": [
    "df.drop(columns=['name'], inplace=True)\n",
    "df.tail()"
   ]
  },
  {
   "cell_type": "markdown",
   "metadata": {},
   "source": [
    "- *Remove the \"ELI5:\" tag from all comments*"
   ]
  },
  {
   "cell_type": "code",
   "execution_count": 36,
   "metadata": {},
   "outputs": [
    {
     "data": {
      "text/html": [
       "<div>\n",
       "<style scoped>\n",
       "    .dataframe tbody tr th:only-of-type {\n",
       "        vertical-align: middle;\n",
       "    }\n",
       "\n",
       "    .dataframe tbody tr th {\n",
       "        vertical-align: top;\n",
       "    }\n",
       "\n",
       "    .dataframe thead th {\n",
       "        text-align: right;\n",
       "    }\n",
       "</style>\n",
       "<table border=\"1\" class=\"dataframe\">\n",
       "  <thead>\n",
       "    <tr style=\"text-align: right;\">\n",
       "      <th></th>\n",
       "      <th>title</th>\n",
       "      <th>selftext</th>\n",
       "      <th>subreddit</th>\n",
       "      <th>post</th>\n",
       "    </tr>\n",
       "  </thead>\n",
       "  <tbody>\n",
       "    <tr>\n",
       "      <th>3254</th>\n",
       "      <td>A cop can test for alcohol with a breathalyze...</td>\n",
       "      <td></td>\n",
       "      <td>1</td>\n",
       "      <td>A cop can test for alcohol with a breathalyze...</td>\n",
       "    </tr>\n",
       "    <tr>\n",
       "      <th>3255</th>\n",
       "      <td>What happens to the color in colored drinks b...</td>\n",
       "      <td></td>\n",
       "      <td>1</td>\n",
       "      <td>What happens to the color in colored drinks b...</td>\n",
       "    </tr>\n",
       "    <tr>\n",
       "      <th>3256</th>\n",
       "      <td>Why did I hear voices whenever I had a fever/...</td>\n",
       "      <td></td>\n",
       "      <td>1</td>\n",
       "      <td>Why did I hear voices whenever I had a fever/...</td>\n",
       "    </tr>\n",
       "    <tr>\n",
       "      <th>3257</th>\n",
       "      <td>What even is a permanent record?</td>\n",
       "      <td>I’ve always head that your permanent record fo...</td>\n",
       "      <td>1</td>\n",
       "      <td>What even is a permanent record? I’ve always ...</td>\n",
       "    </tr>\n",
       "    <tr>\n",
       "      <th>3258</th>\n",
       "      <td>What do the numbers on the dials on radiators...</td>\n",
       "      <td>And what would be the most cost effective and ...</td>\n",
       "      <td>1</td>\n",
       "      <td>What do the numbers on the dials on radiators...</td>\n",
       "    </tr>\n",
       "  </tbody>\n",
       "</table>\n",
       "</div>"
      ],
      "text/plain": [
       "                                                  title  \\\n",
       "3254   A cop can test for alcohol with a breathalyze...   \n",
       "3255   What happens to the color in colored drinks b...   \n",
       "3256   Why did I hear voices whenever I had a fever/...   \n",
       "3257                   What even is a permanent record?   \n",
       "3258   What do the numbers on the dials on radiators...   \n",
       "\n",
       "                                               selftext  subreddit  \\\n",
       "3254                                                             1   \n",
       "3255                                                             1   \n",
       "3256                                                             1   \n",
       "3257  I’ve always head that your permanent record fo...          1   \n",
       "3258  And what would be the most cost effective and ...          1   \n",
       "\n",
       "                                                   post  \n",
       "3254   A cop can test for alcohol with a breathalyze...  \n",
       "3255   What happens to the color in colored drinks b...  \n",
       "3256   Why did I hear voices whenever I had a fever/...  \n",
       "3257   What even is a permanent record? I’ve always ...  \n",
       "3258   What do the numbers on the dials on radiators...  "
      ]
     },
     "execution_count": 36,
     "metadata": {},
     "output_type": "execute_result"
    }
   ],
   "source": [
    "df.replace(to_replace=\"ELI5:\", value=\"\", regex=True, inplace=True)\n",
    "df.replace(to_replace=\"ELI5\", value=\"\", regex=True, inplace=True)\n",
    "df.replace(to_replace=\"ELi5\", value=\"\", regex=True, inplace=True)\n",
    "df.tail()"
   ]
  },
  {
   "cell_type": "code",
   "execution_count": 39,
   "metadata": {},
   "outputs": [],
   "source": [
    "# save copy of cleaned dataframe and COMMENT OUT\n",
    "# df.to_csv('../datasets/dad_five.csv', index = False)"
   ]
  },
  {
   "cell_type": "markdown",
   "metadata": {},
   "source": [
    "### Find some good posts to use in presentation"
   ]
  },
  {
   "cell_type": "code",
   "execution_count": 40,
   "metadata": {},
   "outputs": [
    {
     "data": {
      "text/plain": [
       "3259"
      ]
     },
     "execution_count": 40,
     "metadata": {},
     "output_type": "execute_result"
    }
   ],
   "source": [
    "len(df['post'])"
   ]
  },
  {
   "cell_type": "code",
   "execution_count": null,
   "metadata": {},
   "outputs": [],
   "source": [
    "# scroll through the comments and pick some examples to show for presentation\n",
    "\n",
    "list = df.loc[0:3258, 'post']\n",
    "# print(list)\n",
    "for i in range(len(list)):\n",
    "    print(i, list[i])\n",
    "    print(\"--------\")\n",
    "  "
   ]
  },
  {
   "cell_type": "code",
   "execution_count": 50,
   "metadata": {},
   "outputs": [
    {
     "name": "stdout",
     "output_type": "stream",
     "text": [
      "What kind of exercise do lazy people do? Diddly squats\n",
      "What's the cutest season? Awwwtumn.\n",
      "Dad body is just another way of saying... Father figure \n",
      "My son said he was going to read a book by the fire. I said, \"That's a weird name for an author.\"\n",
      "My wife texted me: “Why are you typing everything in lowercase?” Me: i stopped giving a shift.\n",
      "My son wanted some girl advice, so I told him, “If you are intimidated by a date, remember one thing.” They are just big raisins.\n",
      "Couples Therapist: So, tell me what brings you here today? Her: It’s really difficult to live with him. He is so literal.\n",
      "\n",
      "Me: My truck.\n",
      "Why are communist jokes so funny? Everyone gets it. \n",
      "What do you call a fight between a Martian and a nerd with no social life? Alien versus Redditor.\n",
      "What do you call it when the Indian restaurant forgets your bread? It’s a naan issue.\n",
      "What do fish smoke to get high? Seaweed\n",
      "How many drugs did Charlie Sheen do? Enough to kill two and a half men. \n",
      "Harry, you are a Unit of Power! I‘m a Watt?\n",
      "What do you do if you see a space man? You park your car, man.\n",
      "I went out to buy some camouflage pants the other day. Too bad I couldn't find any.\n",
      "A ghost either is or is not resting against a wall. boolean\n",
      "A \"Freudian slip\" is when you say one thing, but mean your mother. I mean \"another\".\n",
      "How do builders party? Nine Inch Nails, followed by Hammertime and some House music.\n",
      "What's the difference between a depression and a recession? A recession is when you lose your job, a depression is what happens when I lose mine. \n",
      "What do you call a boat made out of penises and potatoes? A dictatorship \n",
      "Mrs. Clause just filed for divorce Soon she'll be ms. Independent clause\n",
      "If Yellowstone blows... It'll be a big ash eruption.\n",
      "Having sex on an elevator is wrong on so many levels \n",
      "I like soybeans so much, I convinced my wife to name our daughter Etta. That way I could be married to edamame.  \n",
      "When you have diarrhea, you have a dire rear \n",
      "Did you hear about the restaurant on the moon? Great atmosphere, no food. \n",
      "I turned 43 today, Damn, I am truly in my prime. \n",
      "Why did the snowman name his dog Frost? Because sometimes Frost bites!\n",
      "My Doctor told me to relax. It isn't H1N1 Influenza, Swine Flu. So I did I wake up in a frying pan next to some eggs?\n"
     ]
    }
   ],
   "source": [
    "list= [130, 134, 144, 145, 179, 16, 19, 29, 32, 684, 685, 686, 714, 715, 824, 1046, 1050, 1052, 1053, 1071, 1247, \n",
    "       1508, 1496, 1380, 1368, 1332, 1143, 1160, 1170 ]\n",
    "\n",
    "for i in list:\n",
    "    print(df['post'][i])\n"
   ]
  },
  {
   "cell_type": "code",
   "execution_count": 45,
   "metadata": {},
   "outputs": [
    {
     "name": "stdout",
     "output_type": "stream",
     "text": [
      " Why do divers dive backwards into the sea? Thanks.. \n",
      " How can be sound turned into digital? \n",
      " Why doesn’t tape stick to itself on a roll? \n",
      " What are romance languages and why are they \"romantic\"? \n",
      " why are duck’s penises corkscrew shaped ? \n",
      " Why do trucks always say that they take wide rights, but not lefts? \n",
      " Why is Listerine not corrosive for the teeth but the chemicals in Coke is? \n",
      " : What can't you taste the sweetness in drinks after eating something sweet? \n",
      " Why do you sometimes react with smiling/laughing to shoking things? \n",
      " What is the difference between movies and films? Also directors and filmmakers? \n",
      " How can the original Jurassic Park made back in 1993 look more realistic than more modern movies? \n",
      " Why is denture glue not permanent? A tv commercial I saw was boasting that their glue holds dentures in place for up to 13 hours. Can anyone explain why a permanent glue, like superglue, is inappropriate as a one time solution. \n",
      " Why do women have PMS? It’s terribly uncomfortable, why do women have PMS?\n",
      " What are the benefits of using metric system over English standard system? \n",
      " Why do phone batteries seem to die faster in colder weather? \n",
      " Why do animals seem to have a hard time seeing themselves in a mirror? \n",
      " What distinguishes life from matter? \n",
      "Why do most cereals set like concrete on ceramic if left be. Title. We've all left the Sultana bran, shredded wheat biscuit or the like in the sink and not rinsed it out, and come back to one of the most annoying to remove mortar-like substances known to man. Why does Cereal + Milk + Bowl become such a bond.\n",
      " Why is the body able to regrow the liver and not any other organs? \n",
      " - What's the difference between Windows/Linux/WordPress hosting? How does one decide what hosting plan do they need?\n",
      " Why do animals taste differently? \n",
      " Gamma regression and when it should be used. \n"
     ]
    }
   ],
   "source": [
    "list = [1787, 1803, 2068, 2165, 2169, 2178, 2190, 2398, 2390, 2402, 2465, 3224, 3024, 3030, 3016, 3013, 2862,\n",
    "       2495, 2777, 2779, 2834, 2840]\n",
    "for i in list:\n",
    "    print(df['post'][i])\n"
   ]
  },
  {
   "cell_type": "markdown",
   "metadata": {},
   "source": [
    "### What are the word counts when I vectorize?"
   ]
  },
  {
   "cell_type": "code",
   "execution_count": 51,
   "metadata": {},
   "outputs": [
    {
     "name": "stdout",
     "output_type": "stream",
     "text": [
      "Requirement already satisfied: matplotlib in /Users/amytaylor/anaconda3/envs/dsi/lib/python3.6/site-packages (3.0.2)\n",
      "Requirement already satisfied: pyparsing!=2.0.4,!=2.1.2,!=2.1.6,>=2.0.1 in /Users/amytaylor/anaconda3/envs/dsi/lib/python3.6/site-packages (from matplotlib) (2.2.2)\n",
      "Requirement already satisfied: python-dateutil>=2.1 in /Users/amytaylor/anaconda3/envs/dsi/lib/python3.6/site-packages (from matplotlib) (2.7.5)\n",
      "Requirement already satisfied: cycler>=0.10 in /Users/amytaylor/anaconda3/envs/dsi/lib/python3.6/site-packages (from matplotlib) (0.10.0)\n",
      "Requirement already satisfied: kiwisolver>=1.0.1 in /Users/amytaylor/anaconda3/envs/dsi/lib/python3.6/site-packages (from matplotlib) (1.0.1)\n",
      "Requirement already satisfied: numpy>=1.10.0 in /Users/amytaylor/anaconda3/envs/dsi/lib/python3.6/site-packages (from matplotlib) (1.15.4)\n",
      "Requirement already satisfied: six>=1.5 in /Users/amytaylor/anaconda3/envs/dsi/lib/python3.6/site-packages (from python-dateutil>=2.1->matplotlib) (1.11.0)\n",
      "Requirement already satisfied: setuptools in /Users/amytaylor/anaconda3/envs/dsi/lib/python3.6/site-packages (from kiwisolver>=1.0.1->matplotlib) (40.5.0)\n"
     ]
    }
   ],
   "source": [
    "! pip install matplotlib"
   ]
  },
  {
   "cell_type": "code",
   "execution_count": 54,
   "metadata": {},
   "outputs": [],
   "source": [
    "from sklearn.feature_extraction.text import CountVectorizer\n",
    "from sklearn.feature_extraction import stop_words\n",
    "from sklearn.linear_model import LogisticRegression\n",
    "from sklearn.feature_extraction.text import TfidfVectorizer\n",
    "\n",
    "%matplotlib inline"
   ]
  },
  {
   "cell_type": "markdown",
   "metadata": {},
   "source": [
    "**Countvectorizer: What are the most common words when stopwords are included?**"
   ]
  },
  {
   "cell_type": "code",
   "execution_count": 71,
   "metadata": {},
   "outputs": [
    {
     "name": "stdout",
     "output_type": "stream",
     "text": [
      "the     1421\n",
      "to       773\n",
      "you      639\n",
      "it       598\n",
      "and      547\n",
      "my       492\n",
      "what     455\n",
      "in       424\n",
      "of       422\n",
      "he       373\n",
      "dtype: int64\n",
      "---------------\n",
      "the     2205\n",
      "to      1256\n",
      "and     1113\n",
      "is      1056\n",
      "why      994\n",
      "it       991\n",
      "of       918\n",
      "in       794\n",
      "how      722\n",
      "that     633\n",
      "dtype: int64\n"
     ]
    }
   ],
   "source": [
    "vect = CountVectorizer() # Examine again with stop_words=\"english\"\n",
    "X = vect.fit_transform(df['post'])\n",
    "text = pd.DataFrame(X.toarray(), columns=vect.get_feature_names())\n",
    "text.index = df['subreddit']\n",
    "print(text[text.index == 0].sum().sort_values(ascending = False).head(10))\n",
    "print('---------------')\n",
    "print(text[text.index == 1].sum().sort_values(ascending = False).head(10))"
   ]
  },
  {
   "cell_type": "markdown",
   "metadata": {},
   "source": [
    "a) Graph of most common words in ELI5"
   ]
  },
  {
   "cell_type": "code",
   "execution_count": 96,
   "metadata": {},
   "outputs": [
    {
     "data": {
      "text/plain": [
       "<matplotlib.axes._subplots.AxesSubplot at 0x10c55cb38>"
      ]
     },
     "execution_count": 96,
     "metadata": {},
     "output_type": "execute_result"
    },
    {
     "data": {
      "image/png": "[encoded data removed]",
      "text/plain": [
       "<Figure size 432x288 with 1 Axes>"
      ]
     },
     "metadata": {
      "needs_background": "light"
     },
     "output_type": "display_data"
    }
   ],
   "source": [
    "vect = CountVectorizer(ngram_range=(1, 1), \n",
    "#                        stop_words='english' \n",
    "                      ) # Examine again with stop_words=\"english\"\n",
    "X = vect.fit_transform(df['post'])\n",
    "text = pd.DataFrame(X.toarray(), columns=vect.get_feature_names())\n",
    "text.index = df['subreddit']\n",
    "\n",
    "text[text.index == 1].sum().sort_values(ascending=False).head(10).plot(kind=\"barh\")"
   ]
  },
  {
   "cell_type": "markdown",
   "metadata": {},
   "source": [
    "b) Graph of most common words in dad jokes"
   ]
  },
  {
   "cell_type": "code",
   "execution_count": 97,
   "metadata": {},
   "outputs": [
    {
     "name": "stdout",
     "output_type": "stream",
     "text": [
      "AxesSubplot(0.125,0.125;0.775x0.755)\n"
     ]
    },
    {
     "data": {
      "image/png": "[encoded data removed]",
      "text/plain": [
       "<Figure size 432x288 with 1 Axes>"
      ]
     },
     "metadata": {
      "needs_background": "light"
     },
     "output_type": "display_data"
    }
   ],
   "source": [
    "print(text[text.index == 0].sum().sort_values(ascending=False).head(10).plot(kind=\"barh\"))"
   ]
  },
  {
   "cell_type": "markdown",
   "metadata": {},
   "source": [
    "**TFID vectorizer: What are the most common words when stopwords are removed?**\n",
    "<br>a) ELI5 posts"
   ]
  },
  {
   "cell_type": "code",
   "execution_count": 82,
   "metadata": {},
   "outputs": [
    {
     "data": {
      "text/plain": [
       "<matplotlib.axes._subplots.AxesSubplot at 0x1a571066a0>"
      ]
     },
     "execution_count": 82,
     "metadata": {},
     "output_type": "execute_result"
    },
    {
     "data": {
      "image/png": "[encoded data removed]",
      "text/plain": [
       "<Figure size 432x288 with 1 Axes>"
      ]
     },
     "metadata": {
      "needs_background": "light"
     },
     "output_type": "display_data"
    }
   ],
   "source": [
    "vect = TfidfVectorizer(stop_words=\"english\")\n",
    "X_text = vect.fit_transform(df['post'])\n",
    "text = pd.DataFrame(X_text.toarray(), columns=vect.get_feature_names())\n",
    "text.sum().sort_values(ascending=False)\n",
    "text.index = df['subreddit']\n",
    "\n",
    "# also good to examine\n",
    "# text.max().sort_values(ascending=False)\n",
    "# vect = CountVectorizer(ngram_range=(1, 1), stop_words='english' ) # Examine again with stop_words=\"english\"\n",
    "# X = vect.fit_transform(df['post'])\n",
    "# text = pd.DataFrame(X.toarray(), columns=vect.get_feature_names())\n",
    "# text.index = df['subreddit']\n",
    "\n",
    "text[text.index == 1].sum().sort_values(ascending=False).head(10).plot(kind=\"barh\")"
   ]
  },
  {
   "cell_type": "markdown",
   "metadata": {},
   "source": [
    "(b) for Dad jokes"
   ]
  },
  {
   "cell_type": "code",
   "execution_count": 83,
   "metadata": {},
   "outputs": [
    {
     "data": {
      "text/plain": [
       "<matplotlib.axes._subplots.AxesSubplot at 0x119fcbbe0>"
      ]
     },
     "execution_count": 83,
     "metadata": {},
     "output_type": "execute_result"
    },
    {
     "data": {
      "image/png": "[encoded data removed]",
      "text/plain": [
       "<Figure size 432x288 with 1 Axes>"
      ]
     },
     "metadata": {
      "needs_background": "light"
     },
     "output_type": "display_data"
    }
   ],
   "source": [
    "text[text.index == 0].sum().sort_values(ascending=False).head(10).plot(kind=\"barh\")"
   ]
  },
  {
   "cell_type": "markdown",
   "metadata": {},
   "source": [
    "**TFID vectorizer: What are the most common words when stopwords are left in?**\n",
    "<br>a) ELI5 posts"
   ]
  },
  {
   "cell_type": "code",
   "execution_count": 84,
   "metadata": {},
   "outputs": [
    {
     "data": {
      "text/plain": [
       "<matplotlib.axes._subplots.AxesSubplot at 0x119e9fc50>"
      ]
     },
     "execution_count": 84,
     "metadata": {},
     "output_type": "execute_result"
    },
    {
     "data": {
      "image/png": "[encoded data removed]",
      "text/plain": [
       "<Figure size 432x288 with 1 Axes>"
      ]
     },
     "metadata": {
      "needs_background": "light"
     },
     "output_type": "display_data"
    }
   ],
   "source": [
    "vect = TfidfVectorizer(ngram_range=(1,2))\n",
    "X_text = vect.fit_transform(df['post'])\n",
    "text = pd.DataFrame(X_text.toarray(), columns=vect.get_feature_names())\n",
    "text.sum().sort_values(ascending=False)\n",
    "text.index = df['subreddit']\n",
    "\n",
    "\n",
    "text[text.index == 1].sum().sort_values(ascending=False).head(10).plot(kind=\"barh\")"
   ]
  },
  {
   "cell_type": "markdown",
   "metadata": {},
   "source": [
    "b) Dad jokes"
   ]
  },
  {
   "cell_type": "code",
   "execution_count": 85,
   "metadata": {},
   "outputs": [
    {
     "data": {
      "text/plain": [
       "<matplotlib.axes._subplots.AxesSubplot at 0x1a71eba080>"
      ]
     },
     "execution_count": 85,
     "metadata": {},
     "output_type": "execute_result"
    },
    {
     "data": {
      "image/png": "[encoded data removed]",
      "text/plain": [
       "<Figure size 432x288 with 1 Axes>"
      ]
     },
     "metadata": {
      "needs_background": "light"
     },
     "output_type": "display_data"
    }
   ],
   "source": [
    "text[text.index == 0].sum().sort_values(ascending=False).head(10).plot(kind=\"barh\")"
   ]
  }
 ],
 "metadata": {
  "kernelspec": {
   "display_name": "Python [default]",
   "language": "python",
   "name": "python3"
  },
  "language_info": {
   "codemirror_mode": {
    "name": "ipython",
    "version": 3
   },
   "file_extension": ".py",
   "mimetype": "text/x-python",
   "name": "python",
   "nbconvert_exporter": "python",
   "pygments_lexer": "ipython3",
   "version": "3.5.6"
  }
 },
 "nbformat": 4,
 "nbformat_minor": 2
}
